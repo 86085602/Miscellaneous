{
 "cells": [
  {
   "cell_type": "markdown",
   "metadata": {},
   "source": [
    "# How to recognize handwritten digits in Oracle PL/SQL"
   ]
  },
  {
   "cell_type": "markdown",
   "metadata": {},
   "source": [
    "## This notebook contains the steps to deploy an example system for recognizing hand written digits of the MNIST dataset using Oracle and an artificial neural network serving engine implemented in PL/SQL\n",
    "Author: Luca.Canali@cern.ch - July 2016\n",
    "\n",
    "## Steps:\n",
    "- Load test data and tensors into Oracle tables\n",
    "- Post-process those tables to make use of Oracle's linear algebra package UTL_NLA\n",
    "- Create a custom package MNIST to serve the artificial neural network\n",
    "- Test the package MNIST with test data consisitng of 10000 images of handwritten digits"
   ]
  },
  {
   "cell_type": "markdown",
   "metadata": {},
   "source": [
    "## Instructions to load the test data and tensors into Oracle\n",
    "\n",
    "Note: you don't need this step if you previously followed the training steps in the notebook MNIST_tensorflow_exp_to_oracle.ipynb\n",
    "\n",
    "### Create the database user MNIST \n",
    "For example run this using an account with DBA privileges:\n",
    "<code>\n",
    "SQL> create user mnist identified by mnist default tablespace users quota unlimited on users;\n",
    "SQL> grant connect, create table, create procedure to mnist;\n",
    "SQL> grant read, write on directory DATA_PUMP_DIR to mnist;\n",
    "</code>\n",
    "\n",
    "### The dump file file can be imported as follow:\n",
    "- Download the Oracle datapump file **MNIST_tables.dmp.gz** (see Github repository) and unzip it. Move the .dmp file to a valid directory, for example the directory DATA_PUMP_DIR which by default is $ORACLE_HOME/rdbms/log\n",
    "- use impdp to load the data (this has been tested on Oracle 11.2.0.4 and 12.1.0.2):\n",
    "<code>\n",
    "<b>impdp mnist/mnist tables=testdata,tensors directory=DATA_PUMP_DIR dumpfile=MNIST_tables.dmp</b>\n",
    "</code>\n"
   ]
  },
  {
   "cell_type": "markdown",
   "metadata": {},
   "source": [
    "### Post process the tables, this is because the following makes use of Oracle's linear algebra package UTL_NLA"
   ]
  },
  {
   "cell_type": "code",
   "execution_count": 29,
   "metadata": {
    "collapsed": false
   },
   "outputs": [
    {
     "name": "stdout",
     "output_type": "stream",
     "text": [
      "\n",
      "Table created.\n",
      "\n",
      "\n",
      "Table created.\n",
      "\n"
     ]
    }
   ],
   "source": [
    "%%bash\n",
    "sqlplus -s mnist/mnist@dbserver:1521/orcl.cern.ch  <<EOF\n",
    "\n",
    "-- create the table for test data, where the images of digits are stored as arrays of type utl_nla_array\n",
    "create table testdata_array as\n",
    "select a.image_id, a.label, \n",
    "cast(multiset(select val from testdata where image_id=a.image_id order by val_id) as utl_nla_array_flt) image_array \n",
    "from (select distinct image_id, label from testdata) a order by image_id;\n",
    "\n",
    "-- create the table with tensor definitions, the tensors are stored as arrays of type utl_nla_array\n",
    "create table tensors_array as\n",
    "select a.name, cast(multiset(select val from tensors where name=a.name order by val_id) as utl_nla_array_flt) tensor_vals \n",
    "from (select distinct name from tensors) a;\n",
    "\n",
    "EOF"
   ]
  },
  {
   "cell_type": "markdown",
   "metadata": {},
   "source": [
    "## Create the package that runs the neural network in PL/SQL\n",
    "\n",
    "Notes:\n",
    "- The main function is MNIST.SCORE: it takes as input an image to process (p_testimage_array utl_nla_array_flt) and returns the predicted number.\n",
    "- The procedure MNIST.INIT, loads the tensors from the table tensors_array into PL/SQL global variables.\n"
   ]
  },
  {
   "cell_type": "code",
   "execution_count": 39,
   "metadata": {
    "collapsed": false,
    "scrolled": true
   },
   "outputs": [
    {
     "name": "stdout",
     "output_type": "stream",
     "text": [
      "\n",
      "Package created.\n",
      "\n",
      "\n",
      "Package body created.\n",
      "\n"
     ]
    }
   ],
   "source": [
    "%%bash\n",
    "sqlplus -s mnist/mnist@dbserver:1521/orcl.cern.ch  <<EOF\n",
    "\n",
    "create or replace package mnist\n",
    "as\n",
    "    -- MNIST scoring enginge in PL/SQL\n",
    "    -- Author: Luca.Canali@cern.ch, July 2016\n",
    "    g_b0_array utl_nla_array_flt;\n",
    "    g_W0_matrix utl_nla_array_flt;\n",
    "    g_b1_array utl_nla_array_flt;\n",
    "    g_W1_matrix utl_nla_array_flt;\n",
    "    \n",
    "    function score(p_testimage_array utl_nla_array_flt) return number;\n",
    "    procedure init;\n",
    "end;\n",
    "/\n",
    "\n",
    "create or replace package body mnist\n",
    "as\n",
    "    procedure init\n",
    "    /* initialize the tensors that make up the neural network */\n",
    "    as\n",
    "    begin\n",
    "        SELECT tensor_vals INTO g_W0_matrix FROM tensors_array WHERE name='W0';\n",
    "        SELECT tensor_vals INTO g_W1_matrix FROM tensors_array WHERE name='W1';\n",
    "        SELECT tensor_vals INTO g_b0_array FROM tensors_array WHERE name='b0';\n",
    "        SELECT tensor_vals INTO g_b1_array FROM tensors_array WHERE name='b1';\n",
    "    end;\n",
    "\n",
    "    procedure print_debug(p_array utl_nla_array_flt)\n",
    "    /* useful for debugging pourposes, prints an array to screen. requires set serveroutput on */\n",
    "    as\n",
    "    begin\n",
    "        dbms_output.put_line('***************');\n",
    "        for i in 1..p_array.count loop\n",
    "            dbms_output.put_line('p_array(' || i ||') = ' || TO_CHAR(p_array(i),'9999.9999'));\n",
    "        end loop;\n",
    "        dbms_output.put_line('**************');\n",
    "    end;\n",
    "    \n",
    "    function argmax(p_array utl_nla_array_flt)  return integer\n",
    "    as\n",
    "        v_index number;\n",
    "        v_maxval float;\n",
    "    begin\n",
    "        v_index := 1;\n",
    "        v_maxval := p_array(v_index);\n",
    "        for i in 2..p_array.count loop\n",
    "            if ( p_array(i) > v_maxval) then\n",
    "                v_index := i;\n",
    "                v_maxval := p_array(v_index);\n",
    "            end if; \n",
    "        end loop;\n",
    "    return(v_index);\n",
    "    end;\n",
    "\n",
    "    function score(p_testimage_array utl_nla_array_flt) return number\n",
    "    as\n",
    "        v_Y0 utl_nla_array_flt;\n",
    "        v_output_array utl_nla_array_flt;\n",
    "    begin\n",
    "        v_Y0 := g_b0_array;\n",
    "\n",
    "        /* this is part of the computation of the hidden layer, Y0 = W0_matrix * p_test_image_array + B0 */\n",
    "        /* utl_nla.blas_gemv performs matrix multiplication and vector addition */\n",
    "        utl_nla.blas_gemv(\n",
    "                      trans => 'N',\n",
    "                      m => 100,\n",
    "                      n => 784,\n",
    "                      alpha => 1.0,\n",
    "                      a => g_W0_matrix,\n",
    "                      lda => 100,\n",
    "                      x => p_testimage_array,\n",
    "                      incx => 1,\n",
    "                      beta => 1.0,\n",
    "                      y => v_Y0,\n",
    "                      incy => 1,\n",
    "                      pack => 'C'\n",
    "        );\n",
    "\n",
    "        /* This is part of the computation of the hidden layer: Y0 -> sigmoid(Y0) */\n",
    "        for i in 1..v_Y0.count loop\n",
    "            v_Y0(i) := 1 / ( 1 + exp(-v_Y0(i)));\n",
    "        end loop;\n",
    "\n",
    "        v_output_array := g_b1_array;\n",
    "\n",
    "        /* this is part of the computation of the output layer, Y1 = W1_matrix * Y0 + B1 */\n",
    "        /* utl_nla.blas_gemv performs matrix multiplication and vector addition */\n",
    "        utl_nla.blas_gemv(\n",
    "                      trans => 'N',\n",
    "                      m => 10,\n",
    "                      n => 100,\n",
    "                      alpha => 1.0,\n",
    "                      a => g_W1_matrix,\n",
    "                      lda => 10,\n",
    "                      x => v_Y0,\n",
    "                      incx => 1,\n",
    "                      beta => 1.0,\n",
    "                      y => v_output_array,\n",
    "                      incy => 1,\n",
    "                      pack => 'C'\n",
    "        );\n",
    "        \n",
    "        /* print_debug(v_output_array); */\n",
    "\n",
    "        /* v_output_array needs to be passed via softmax function to provide a distribution probability */\n",
    "        /* here we are only interested in the maximum value which gives the predicted number with an offset of 1 */\n",
    "        return (argmax(v_output_array) - 1);\n",
    "\n",
    "    end;\n",
    "end;\n",
    "/\n",
    "EOF\n"
   ]
  },
  {
   "cell_type": "markdown",
   "metadata": {},
   "source": [
    "## Test the scoring engine with one test image\n",
    "Notes:\n",
    "- the images of the handwritten digits are encoded in the field image_array of the table testdata_array\n",
    "- The label field of testdata_array contains the value of the digit \n",
    "- When MNIST.SCORE output is equal to the label value, the neural network has predicted correctly the digit\n"
   ]
  },
  {
   "cell_type": "code",
   "execution_count": 35,
   "metadata": {
    "collapsed": false
   },
   "outputs": [
    {
     "name": "stdout",
     "output_type": "stream",
     "text": [
      "\n",
      "PL/SQL procedure successfully completed.\n",
      "\n",
      "\n",
      "MNIST.SCORE(IMAGE_ARRAY)      LABEL\n",
      "------------------------ ----------\n",
      "\t\t       7\t  7\n",
      "\n"
     ]
    }
   ],
   "source": [
    "%%bash\n",
    "sqlplus -s mnist/mnist@dbserver:1521/orcl.cern.ch <<EOF\n",
    "\n",
    "exec mnist.init\n",
    "select mnist.score(image_array), label from testdata_array where rownum=1;\n",
    "\n",
    "EOF"
   ]
  },
  {
   "cell_type": "markdown",
   "metadata": {},
   "source": [
    "## Test the scoring engine with all the test images\n",
    "Notes:\n",
    "- from the SQL here below that the neural network and the serving engine MNIST.SCORE correctly predicts 9787 out of 10000 images, that is has an accuracy on the test set of ~98%\n",
    "- The execution time for processing 10000 test images is about 2 minutes, that is ~12 ms to process each image on average"
   ]
  },
  {
   "cell_type": "code",
   "execution_count": 38,
   "metadata": {
    "collapsed": false
   },
   "outputs": [
    {
     "name": "stdout",
     "output_type": "stream",
     "text": [
      "\n",
      "PL/SQL procedure successfully completed.\n",
      "\n",
      "\n",
      "Images correctly identified Total number of images\n",
      "--------------------------- ----------------------\n",
      "\t\t       9787\t\t     10000\n",
      "\n",
      "Elapsed: 00:02:03.14\n"
     ]
    }
   ],
   "source": [
    "%%bash\n",
    "sqlplus -s mnist/mnist@dbserver:1521/orcl.cern.ch <<EOF\n",
    "\n",
    "exec mnist.init\n",
    "set timing on\n",
    "select sum(decode(mnist.score(image_array), label, 1, 0)) \"Images correctly identified\",\n",
    "       count(*) \"Total number of images\" \n",
    "from testdata_array;\n",
    "\n",
    "EOF"
   ]
  },
  {
   "cell_type": "code",
   "execution_count": null,
   "metadata": {
    "collapsed": true
   },
   "outputs": [],
   "source": []
  }
 ],
 "metadata": {
  "kernelspec": {
   "display_name": "Python [Root]",
   "language": "python",
   "name": "Python [Root]"
  },
  "language_info": {
   "codemirror_mode": {
    "name": "ipython",
    "version": 2
   },
   "file_extension": ".py",
   "mimetype": "text/x-python",
   "name": "python",
   "nbconvert_exporter": "python",
   "pygments_lexer": "ipython2",
   "version": "2.7.12"
  }
 },
 "nbformat": 4,
 "nbformat_minor": 0
}
