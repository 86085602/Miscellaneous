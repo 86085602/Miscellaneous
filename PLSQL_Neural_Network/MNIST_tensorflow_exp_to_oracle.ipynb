{
 "cells": [
  {
   "cell_type": "markdown",
   "metadata": {},
   "source": [
    "# TensorFlow training of an artificial neural network to recognize handwritten digits in the MNIST dataset and export it to Oracle RDBMS\n",
    "This notebook contains the preparation steps for the notebook MNIST_oracle_plsql.ipynb where you can find the steps for deploying a neural network serving engine in Oracle using PL/SQL   \n",
    "Author: Luca.Canali@cern.ch - July 2016"
   ]
  },
  {
   "cell_type": "markdown",
   "metadata": {},
   "source": [
    "## Initialize the environment and load the training set\n",
    "Credits: the code for defining and training the neural network is adapted (with extensions) from the Google TensorFlow tutorial https://github.com/tensorflow/tensorflow/blob/master/tensorflow/examples/tutorials/mnist/mnist_softmax.py  "
   ]
  },
  {
   "cell_type": "code",
   "execution_count": 1,
   "metadata": {
    "collapsed": false
   },
   "outputs": [
    {
     "name": "stdout",
     "output_type": "stream",
     "text": [
      "Extracting /tmp/data/train-images-idx3-ubyte.gz\n",
      "Extracting /tmp/data/train-labels-idx1-ubyte.gz\n",
      "Extracting /tmp/data/t10k-images-idx3-ubyte.gz\n",
      "Extracting /tmp/data/t10k-labels-idx1-ubyte.gz\n"
     ]
    }
   ],
   "source": [
    "from __future__ import absolute_import\n",
    "from __future__ import division\n",
    "from __future__ import print_function\n",
    "\n",
    "# Import data\n",
    "from tensorflow.examples.tutorials.mnist import input_data\n",
    "import tensorflow as tf\n",
    "\n",
    "flags = tf.app.flags\n",
    "FLAGS = flags.FLAGS\n",
    "flags.DEFINE_string('data_dir', '/tmp/data/', 'Directory for storing data')\n",
    "\n",
    "# Load training and test data sets with labels\n",
    "mnist = input_data.read_data_sets(FLAGS.data_dir, one_hot=True)\n"
   ]
  },
  {
   "cell_type": "markdown",
   "metadata": {
    "collapsed": true
   },
   "source": [
    "\n",
    "## Definition of the neural network:\n",
    "- The following defines a basic feed forward neural network with one hidden layer\n",
    "- Other standard techniques used are the definition of cross entropy as loss function and the use of gradient descent as optimizer\n"
   ]
  },
  {
   "cell_type": "code",
   "execution_count": 2,
   "metadata": {
    "collapsed": false
   },
   "outputs": [],
   "source": [
    "# define and initialize the tensors\n",
    "\n",
    "x = tf.placeholder(tf.float32, shape=[None, 784])\n",
    "y_ = tf.placeholder(tf.float32, shape=[None, 10])\n",
    "\n",
    "W0 = tf.Variable(tf.truncated_normal([784, 100], stddev=0.1))\n",
    "b0 = tf.Variable(tf.zeros([100])) \n",
    "\n",
    "W1 = tf.Variable(tf.truncated_normal([100, 10], stddev=0.1))\n",
    "b1 = tf.Variable(tf.zeros([10])) \n",
    "\n",
    "# Feed forward neural network with one hidden layer\n",
    "\n",
    "# y0 is the hidden layer with sigmoid activation\n",
    "y0 = tf.sigmoid(tf.matmul(x, W0) + b0)\n",
    "\n",
    "# y1 is the output layer (softmax)\n",
    "# y1[n] is the predicted probability that the input image depicts number 'n'\n",
    "y1 = tf.nn.softmax(tf.matmul(y0, W1) + b1)\n",
    "\n",
    "# The the loss function is defined as cross_entropy\n",
    "cross_entropy = tf.reduce_mean(-tf.reduce_sum(y_ * tf.log(y1), reduction_indices=[1]))\n",
    "\n",
    "# train the network using gradient descent\n",
    "train_step = tf.train.GradientDescentOptimizer(learning_rate=0.5).minimize(cross_entropy)\n"
   ]
  },
  {
   "cell_type": "code",
   "execution_count": 3,
   "metadata": {
    "collapsed": true
   },
   "outputs": [],
   "source": [
    "# start a TensorFlow interactive session\n",
    "sess = tf.InteractiveSession()\n",
    "sess.run(tf.initialize_all_variables())\n"
   ]
  },
  {
   "cell_type": "markdown",
   "metadata": {},
   "source": [
    "## Train the network\n",
    "- The training uses 55000 images with labels\n",
    "- It is performed over 30000 iterations using mini batch size of 100 images"
   ]
  },
  {
   "cell_type": "code",
   "execution_count": 4,
   "metadata": {
    "collapsed": false
   },
   "outputs": [
    {
     "name": "stdout",
     "output_type": "stream",
     "text": [
      "Accuracy of the trained network over the test images: 0.9787\n"
     ]
    }
   ],
   "source": [
    "batch_size = 100\n",
    "train_iterations = 30000\n",
    "\n",
    "# There are mnist.train.num_examples=55000 images in the train sample\n",
    "# train in batches of 'batch_size' images at a time\n",
    "# Repeat for 'train_iterations' number of iterations\n",
    "# Training batches are randomly calculated as each new epoch starts\n",
    "\n",
    "for i in range(train_iterations):\n",
    "    batch = mnist.train.next_batch(100)\n",
    "    train_data = feed_dict={x: batch[0], y_: batch[1]}\n",
    "    train_step.run(train_data)\n",
    "\n",
    "# Test the accuracy of the trained network\n",
    "correct_prediction = tf.equal(tf.argmax(y1, 1), tf.argmax(y_, 1))\n",
    "accuracy = tf.reduce_mean(tf.cast(correct_prediction, tf.float32))\n",
    "print(\"Accuracy of the trained network over the test images: %s\" % \n",
    "      accuracy.eval({x: mnist.test.images, y_: mnist.test.labels}))"
   ]
  },
  {
   "cell_type": "markdown",
   "metadata": {},
   "source": [
    "## Learning exercise: extract the tensors as 'manually' run the neural network scoring\n",
    "In the following you can find an example of how to manually run the neural network scoring in Python using numpy. This is intended as an example to further the understanding of how the scoring engine works and opens the way for the next steps, that is the implementation of the scoring engine for Oracle using PL/SQL (see also the notebook MNIST_oracle_plsql.ipynb)"
   ]
  },
  {
   "cell_type": "code",
   "execution_count": 6,
   "metadata": {
    "collapsed": false
   },
   "outputs": [
    {
     "name": "stdout",
     "output_type": "stream",
     "text": [
      "W0 is matrix of size: (784, 100) \n",
      "b0 is array of size:  (100,) \n",
      "W1 is matrix of size: (100, 10) \n",
      "b1 is array of size:  (10,) \n"
     ]
    }
   ],
   "source": [
    "# There are 2 matrices and 2 vectors used in this neural network:\n",
    "W0_matrix=W0.eval()\n",
    "b0_array=b0.eval()\n",
    "W1_matrix=W1.eval()\n",
    "b1_array=b1.eval()\n",
    "\n",
    "print (\"W0 is matrix of size: %s \" % (W0_matrix.shape,) )\n",
    "print (\"b0 is array of size:  %s \" % (b0_array.shape,) )\n",
    "print (\"W1 is matrix of size: %s \" % (W1_matrix.shape,) )\n",
    "print (\"b1 is array of size:  %s \" % (b1_array.shape,) )\n"
   ]
  },
  {
   "cell_type": "markdown",
   "metadata": {},
   "source": [
    "## Extracting the test images and labels as numpy arrays"
   ]
  },
  {
   "cell_type": "code",
   "execution_count": 7,
   "metadata": {
    "collapsed": false
   },
   "outputs": [
    {
     "name": "stdout",
     "output_type": "stream",
     "text": [
      "testimages is matrix of size: (10000, 784) \n",
      "testlabels is array of size:  (10000,) \n"
     ]
    }
   ],
   "source": [
    "testlabels=tf.argmax(mnist.test.labels,1).eval()\n",
    "testimages=mnist.test.images\n",
    "\n",
    "print (\"testimages is matrix of size: %s \" % (testimages.shape,) )\n",
    "print (\"testlabels is array of size:  %s \" % (testlabels.shape,) )\n"
   ]
  },
  {
   "cell_type": "markdown",
   "metadata": {},
   "source": [
    "## Example of how to run the neural network \"manually\" using the tensor values extracted into numpy arrays"
   ]
  },
  {
   "cell_type": "code",
   "execution_count": 8,
   "metadata": {
    "collapsed": false
   },
   "outputs": [
    {
     "name": "stdout",
     "output_type": "stream",
     "text": [
      "image label 7, predicted value by the neural network: 7\n"
     ]
    }
   ],
   "source": [
    "import numpy as np\n",
    "\n",
    "def softmax(x):\n",
    "    \"\"\"Compute the softmax function on a numpy array\"\"\"\n",
    "    return np.exp(x) / np.sum(np.exp(x), axis=0)\n",
    "\n",
    "def sigmoid(x):\n",
    "    \"\"\"Compute the sigmoid function on a numpy array\"\"\"\n",
    "    return (1 / (1 + np.exp(-x)))\n",
    "\n",
    "testimage=testimages[0]\n",
    "testlabel=testlabels[0]\n",
    "\n",
    "hidden_layer = sigmoid(np.dot(testimage, W0_matrix) + b0_array)\n",
    "predicted = np.argmax(softmax(np.dot(hidden_layer, W1_matrix) + b1_array))\n",
    "\n",
    "print (\"image label %d, predicted value by the neural network: %d\" % (testlabel, predicted))"
   ]
  },
  {
   "cell_type": "markdown",
   "metadata": {
    "collapsed": false
   },
   "source": [
    "## Visual test that the predicted value is indeed correct"
   ]
  },
  {
   "cell_type": "code",
   "execution_count": 9,
   "metadata": {
    "collapsed": false,
    "scrolled": true
   },
   "outputs": [
    {
     "data": {
      "text/plain": [
       "<matplotlib.image.AxesImage at 0x7f40d8609f50>"
      ]
     },
     "execution_count": 9,
     "metadata": {},
     "output_type": "execute_result"
    },
    {
     "data": {
      "image/png": "[encoded data removed]",
      "text/plain": [
       "<matplotlib.figure.Figure at 0x7f40dcc0d990>"
      ]
     },
     "metadata": {},
     "output_type": "display_data"
    }
   ],
   "source": [
    "import matplotlib.pyplot as plt\n",
    "%matplotlib inline\n",
    "plt.imshow(testimage.reshape(28,28), cmap='Greys')"
   ]
  },
  {
   "cell_type": "markdown",
   "metadata": {},
   "source": [
    "## Transfer of the tensors and test data into Oracle tables"
   ]
  },
  {
   "cell_type": "markdown",
   "metadata": {
    "collapsed": true
   },
   "source": [
    "For the following you should have access to a (test) Oracle database. This procedure has been tested with Oracle 11.2.0.4 and 12.1.0.2 on Linux.\n",
    "To keep the test isolated you can create a dedicated user (suggested name, mnist) for the data transfer, as follows:\n",
    "<code>\n",
    "### From a DBA account (for example the user system) execute:\n",
    "SQL> create user mnist identified by mnist default tablespace users quota unlimited on users;\n",
    "SQL> grant connect, create table, create procedure to mnist;\n",
    "SQL> grant read, write on directory DATA_PUMP_DIR to mnist;\n",
    "</code>\n",
    "\n",
    "### These are the tables that will be used in the following code to transfer the tensors and testdata: \n",
    "<code>\n",
    "SQL> connect mnist/mnist@ORCL\n",
    "SQL> create table tensors(name varchar2(20), val_id number, val binary_float, primary key(name, val_id));\n",
    "SQL> create table testdata(image_id number, label number, val_id number, val binary_float, primary key(image_id, val_id));\n",
    "</code>\n",
    "\n",
    "Open the connection to the database using cx_Oracle:\n",
    "(for tips on how to install and use of cx_Oracle see also https://github.com/LucaCanali/Miscellaneous/tree/master/Oracle_Jupyter)"
   ]
  },
  {
   "cell_type": "code",
   "execution_count": 12,
   "metadata": {
    "collapsed": false
   },
   "outputs": [],
   "source": [
    "import cx_Oracle\n",
    "ora_conn = cx_Oracle.connect('mnist/mnist@dbserver:1521/orcl.cern.ch')\n",
    "cursor = ora_conn.cursor()"
   ]
  },
  {
   "cell_type": "markdown",
   "metadata": {},
   "source": [
    "Transfer the matrixes W0 and W1 into the table tensors (which must be precreated as described above)"
   ]
  },
  {
   "cell_type": "code",
   "execution_count": 13,
   "metadata": {
    "collapsed": false
   },
   "outputs": [],
   "source": [
    "i = 0\n",
    "sql=\"insert into tensors values ('W0', :val_id, :val)\"\n",
    "for column in W0_matrix:\n",
    "    array_values = []\n",
    "    for element in column:\n",
    "        array_values.append((i, float(element)))\n",
    "        i += 1\n",
    "    cursor.executemany(sql, array_values)\n",
    "\n",
    "ora_conn.commit()\n",
    "\n",
    "i = 0\n",
    "sql=\"insert into tensors values ('W1', :val_id, :val)\"\n",
    "for column in W1_matrix:\n",
    "    array_values = []\n",
    "    for element in column:\n",
    "        array_values.append((i, float(element)))\n",
    "        i += 1\n",
    "    cursor.executemany(sql, array_values)\n",
    "\n",
    "ora_conn.commit()"
   ]
  },
  {
   "cell_type": "markdown",
   "metadata": {},
   "source": [
    "Transfer the vectors b0 and b1 into the table \"tensors\" (the table is expected to exist on the DB, create it using the SQL described above)"
   ]
  },
  {
   "cell_type": "code",
   "execution_count": 14,
   "metadata": {
    "collapsed": false
   },
   "outputs": [],
   "source": [
    "i = 0\n",
    "sql=\"insert into tensors values ('b0', :val_id, :val)\"\n",
    "array_values = []\n",
    "for element in b0_array:\n",
    "    array_values.append((i, float(element)))\n",
    "    i += 1\n",
    "cursor.executemany(sql, array_values)\n",
    "\n",
    "i = 0\n",
    "sql=\"insert into tensors values ('b1', :val_id, :val)\"\n",
    "array_values = []\n",
    "for element in b1_array:\n",
    "    array_values.append((i, float(element)))\n",
    "    i += 1\n",
    "cursor.executemany(sql, array_values)\n",
    "\n",
    "ora_conn.commit()"
   ]
  },
  {
   "cell_type": "markdown",
   "metadata": {},
   "source": [
    "Transfer the test data with images and labels into the table \"testdata\" (the table is expected to exist on the DB, create it using the SQL described above)"
   ]
  },
  {
   "cell_type": "code",
   "execution_count": 15,
   "metadata": {
    "collapsed": false
   },
   "outputs": [],
   "source": [
    "image_id = 0\n",
    "array_values = []\n",
    "sql=\"insert into testdata values (:image_id, :label, :val_id, :val)\"\n",
    "for image in testimages:\n",
    "    val_id = 0\n",
    "    array_values = []\n",
    "    for element in image:\n",
    "        array_values.append((image_id, testlabels[image_id], val_id, float(element)))\n",
    "        val_id += 1\n",
    "    cursor.executemany(sql, array_values)\n",
    "    image_id += 1\n",
    "\n",
    "ora_conn.commit()"
   ]
  },
  {
   "cell_type": "markdown",
   "metadata": {},
   "source": [
    "## Export the neural network tensors and test data\n",
    "\n",
    "This will create a datapump export of the testdata_array and tensors_array tables into the destination DATA_PUMP_DIR \n",
    "(by default on $ORACLE_HOME/rdbms/log). Note if note executed earlier, run:\n",
    "<code>\n",
    "SQL> grant read, write on directory DATA_PUMP_DIR to mnist;\n",
    "</code>\n",
    "\n",
    "### From the command line as Oracle export the tables in a datapump dump file:\n",
    "<code><b>\n",
    "expdp mnist/mnist tables=testdata,tensors directory=DATA_PUMP_DIR dumpfile=MNIST_tables.dmp\n",
    "</b></code>"
   ]
  },
  {
   "cell_type": "markdown",
   "metadata": {},
   "source": [
    "### This ends the preparation of the network\n",
    "### Please move on to the instructions for deploying the scoring engine in Oracle, see MNIST_oracle_plsql.ipynb"
   ]
  },
  {
   "cell_type": "code",
   "execution_count": null,
   "metadata": {
    "collapsed": true
   },
   "outputs": [],
   "source": []
  }
 ],
 "metadata": {
  "kernelspec": {
   "display_name": "Python [Root]",
   "language": "python",
   "name": "Python [Root]"
  },
  "language_info": {
   "codemirror_mode": {
    "name": "ipython",
    "version": 2
   },
   "file_extension": ".py",
   "mimetype": "text/x-python",
   "name": "python",
   "nbconvert_exporter": "python",
   "pygments_lexer": "ipython2",
   "version": "2.7.12"
  }
 },
 "nbformat": 4,
 "nbformat_minor": 0
}
