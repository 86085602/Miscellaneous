{
 "cells": [
  {
   "cell_type": "markdown",
   "metadata": {},
   "source": [
    "# Apache Impala and SQL magic extensions for IPython/Jupyter notebooks\n",
    "***"
   ]
  },
  {
   "cell_type": "markdown",
   "metadata": {},
   "source": [
    "## 1. Load the SQL magic extension (requires ipython-sql by Catherrine Devlin)"
   ]
  },
  {
   "cell_type": "code",
   "execution_count": 1,
   "metadata": {
    "collapsed": true
   },
   "outputs": [],
   "source": [
    "%load_ext sql"
   ]
  },
  {
   "cell_type": "markdown",
   "metadata": {},
   "source": [
    "## 2. Connect to the target database (requires Cloudera impyla)"
   ]
  },
  {
   "cell_type": "code",
   "execution_count": 2,
   "metadata": {
    "collapsed": false
   },
   "outputs": [
    {
     "data": {
      "text/plain": [
       "u'Connected: None@test2'"
      ]
     },
     "execution_count": 2,
     "metadata": {},
     "output_type": "execute_result"
    }
   ],
   "source": [
    "%%sql\n",
    "impala://impalasrv-test:21050/test2"
   ]
  },
  {
   "cell_type": "markdown",
   "metadata": {},
   "source": [
    "## 3. Run SQL on the target using the %%sql cell magic or %sql line magic"
   ]
  },
  {
   "cell_type": "code",
   "execution_count": 3,
   "metadata": {
    "collapsed": false
   },
   "outputs": [
    {
     "name": "stdout",
     "output_type": "stream",
     "text": [
      "Done.\n"
     ]
    },
    {
     "data": {
      "text/html": [
       "<table>\n",
       "    <tr>\n",
       "        <th>empno</th>\n",
       "        <th>ename</th>\n",
       "        <th>job</th>\n",
       "        <th>mgr</th>\n",
       "        <th>hiredate</th>\n",
       "        <th>sal</th>\n",
       "        <th>comm</th>\n",
       "        <th>deptno</th>\n",
       "    </tr>\n",
       "    <tr>\n",
       "        <td>7521</td>\n",
       "        <td>WARD</td>\n",
       "        <td>SALESMAN</td>\n",
       "        <td>7698</td>\n",
       "        <td>1981-02-22 00:00:00</td>\n",
       "        <td>1250</td>\n",
       "        <td>500</td>\n",
       "        <td>30</td>\n",
       "    </tr>\n",
       "    <tr>\n",
       "        <td>7902</td>\n",
       "        <td>FORD</td>\n",
       "        <td>ANALYST</td>\n",
       "        <td>7566</td>\n",
       "        <td>1981-12-03 00:00:00</td>\n",
       "        <td>3000</td>\n",
       "        <td>None</td>\n",
       "        <td>20</td>\n",
       "    </tr>\n",
       "    <tr>\n",
       "        <td>7900</td>\n",
       "        <td>JAMES</td>\n",
       "        <td>CLERK</td>\n",
       "        <td>7698</td>\n",
       "        <td>1981-12-03 00:00:00</td>\n",
       "        <td>950</td>\n",
       "        <td>None</td>\n",
       "        <td>30</td>\n",
       "    </tr>\n",
       "    <tr>\n",
       "        <td>7782</td>\n",
       "        <td>CLARK</td>\n",
       "        <td>MANAGER</td>\n",
       "        <td>7839</td>\n",
       "        <td>1981-06-09 00:00:00</td>\n",
       "        <td>2450</td>\n",
       "        <td>None</td>\n",
       "        <td>10</td>\n",
       "    </tr>\n",
       "    <tr>\n",
       "        <td>7566</td>\n",
       "        <td>JONES</td>\n",
       "        <td>MANAGER</td>\n",
       "        <td>7839</td>\n",
       "        <td>1981-04-02 00:00:00</td>\n",
       "        <td>2975</td>\n",
       "        <td>None</td>\n",
       "        <td>20</td>\n",
       "    </tr>\n",
       "    <tr>\n",
       "        <td>7698</td>\n",
       "        <td>BLAKE</td>\n",
       "        <td>MANAGER</td>\n",
       "        <td>7839</td>\n",
       "        <td>1981-05-01 00:00:00</td>\n",
       "        <td>2850</td>\n",
       "        <td>None</td>\n",
       "        <td>30</td>\n",
       "    </tr>\n",
       "    <tr>\n",
       "        <td>7839</td>\n",
       "        <td>KING</td>\n",
       "        <td>PRESIDENT</td>\n",
       "        <td>None</td>\n",
       "        <td>1981-11-17 00:00:00</td>\n",
       "        <td>5000</td>\n",
       "        <td>None</td>\n",
       "        <td>10</td>\n",
       "    </tr>\n",
       "    <tr>\n",
       "        <td>7788</td>\n",
       "        <td>SCOTT</td>\n",
       "        <td>ANALYST</td>\n",
       "        <td>7566</td>\n",
       "        <td>1987-04-19 00:00:00</td>\n",
       "        <td>3000</td>\n",
       "        <td>None</td>\n",
       "        <td>20</td>\n",
       "    </tr>\n",
       "    <tr>\n",
       "        <td>7369</td>\n",
       "        <td>SMITH</td>\n",
       "        <td>CLERK</td>\n",
       "        <td>7902</td>\n",
       "        <td>1980-12-17 00:00:00</td>\n",
       "        <td>800</td>\n",
       "        <td>None</td>\n",
       "        <td>20</td>\n",
       "    </tr>\n",
       "    <tr>\n",
       "        <td>7654</td>\n",
       "        <td>MARTIN</td>\n",
       "        <td>SALESMAN</td>\n",
       "        <td>7698</td>\n",
       "        <td>1981-09-28 00:00:00</td>\n",
       "        <td>1250</td>\n",
       "        <td>1400</td>\n",
       "        <td>30</td>\n",
       "    </tr>\n",
       "    <tr>\n",
       "        <td>7934</td>\n",
       "        <td>MILLER</td>\n",
       "        <td>CLERK</td>\n",
       "        <td>7782</td>\n",
       "        <td>1982-01-23 00:00:00</td>\n",
       "        <td>1300</td>\n",
       "        <td>None</td>\n",
       "        <td>10</td>\n",
       "    </tr>\n",
       "    <tr>\n",
       "        <td>7876</td>\n",
       "        <td>ADAMS</td>\n",
       "        <td>CLERK</td>\n",
       "        <td>7788</td>\n",
       "        <td>1987-05-23 00:00:00</td>\n",
       "        <td>1100</td>\n",
       "        <td>None</td>\n",
       "        <td>20</td>\n",
       "    </tr>\n",
       "    <tr>\n",
       "        <td>7844</td>\n",
       "        <td>TURNER</td>\n",
       "        <td>SALESMAN</td>\n",
       "        <td>7698</td>\n",
       "        <td>1981-09-08 00:00:00</td>\n",
       "        <td>1500</td>\n",
       "        <td>0</td>\n",
       "        <td>30</td>\n",
       "    </tr>\n",
       "    <tr>\n",
       "        <td>7499</td>\n",
       "        <td>ALLEN</td>\n",
       "        <td>SALESMAN</td>\n",
       "        <td>7698</td>\n",
       "        <td>1981-02-20 00:00:00</td>\n",
       "        <td>1600</td>\n",
       "        <td>300</td>\n",
       "        <td>30</td>\n",
       "    </tr>\n",
       "</table>"
      ],
      "text/plain": [
       "[(7521, 'WARD', 'SALESMAN', 7698, datetime.datetime(1981, 2, 22, 0, 0), 1250, 500, 30),\n",
       " (7902, 'FORD', 'ANALYST', 7566, datetime.datetime(1981, 12, 3, 0, 0), 3000, None, 20),\n",
       " (7900, 'JAMES', 'CLERK', 7698, datetime.datetime(1981, 12, 3, 0, 0), 950, None, 30),\n",
       " (7782, 'CLARK', 'MANAGER', 7839, datetime.datetime(1981, 6, 9, 0, 0), 2450, None, 10),\n",
       " (7566, 'JONES', 'MANAGER', 7839, datetime.datetime(1981, 4, 2, 0, 0), 2975, None, 20),\n",
       " (7698, 'BLAKE', 'MANAGER', 7839, datetime.datetime(1981, 5, 1, 0, 0), 2850, None, 30),\n",
       " (7839, 'KING', 'PRESIDENT', None, datetime.datetime(1981, 11, 17, 0, 0), 5000, None, 10),\n",
       " (7788, 'SCOTT', 'ANALYST', 7566, datetime.datetime(1987, 4, 19, 0, 0), 3000, None, 20),\n",
       " (7369, 'SMITH', 'CLERK', 7902, datetime.datetime(1980, 12, 17, 0, 0), 800, None, 20),\n",
       " (7654, 'MARTIN', 'SALESMAN', 7698, datetime.datetime(1981, 9, 28, 0, 0), 1250, 1400, 30),\n",
       " (7934, 'MILLER', 'CLERK', 7782, datetime.datetime(1982, 1, 23, 0, 0), 1300, None, 10),\n",
       " (7876, 'ADAMS', 'CLERK', 7788, datetime.datetime(1987, 5, 23, 0, 0), 1100, None, 20),\n",
       " (7844, 'TURNER', 'SALESMAN', 7698, datetime.datetime(1981, 9, 8, 0, 0), 1500, 0, 30),\n",
       " (7499, 'ALLEN', 'SALESMAN', 7698, datetime.datetime(1981, 2, 20, 0, 0), 1600, 300, 30)]"
      ]
     },
     "execution_count": 3,
     "metadata": {},
     "output_type": "execute_result"
    }
   ],
   "source": [
    "%%sql \n",
    "select * from emp"
   ]
  },
  {
   "cell_type": "markdown",
   "metadata": {},
   "source": [
    "## Bind variables"
   ]
  },
  {
   "cell_type": "code",
   "execution_count": 4,
   "metadata": {
    "collapsed": false
   },
   "outputs": [
    {
     "name": "stdout",
     "output_type": "stream",
     "text": [
      "Done.\n"
     ]
    },
    {
     "data": {
      "text/html": [
       "<table>\n",
       "    <tr>\n",
       "        <th>empno</th>\n",
       "        <th>ename</th>\n",
       "        <th>job</th>\n",
       "        <th>mgr</th>\n",
       "        <th>hiredate</th>\n",
       "        <th>sal</th>\n",
       "        <th>comm</th>\n",
       "        <th>deptno</th>\n",
       "    </tr>\n",
       "    <tr>\n",
       "        <td>7788</td>\n",
       "        <td>SCOTT</td>\n",
       "        <td>ANALYST</td>\n",
       "        <td>7566</td>\n",
       "        <td>1987-04-19 00:00:00</td>\n",
       "        <td>3000</td>\n",
       "        <td>None</td>\n",
       "        <td>20</td>\n",
       "    </tr>\n",
       "</table>"
      ],
      "text/plain": [
       "[(7788, 'SCOTT', 'ANALYST', 7566, datetime.datetime(1987, 4, 19, 0, 0), 3000, None, 20)]"
      ]
     },
     "execution_count": 4,
     "metadata": {},
     "output_type": "execute_result"
    }
   ],
   "source": [
    "Employee_name=\"SCOTT\"\n",
    "\n",
    "%sql select * from emp where ename=:Employee_name"
   ]
  },
  {
   "cell_type": "markdown",
   "metadata": {},
   "source": [
    "## Additional example of the integration with the IPython environment"
   ]
  },
  {
   "cell_type": "code",
   "execution_count": 5,
   "metadata": {
    "collapsed": false
   },
   "outputs": [
    {
     "name": "stdout",
     "output_type": "stream",
     "text": [
      "Done.\n"
     ]
    },
    {
     "data": {
      "text/plain": [
       "<Container object of 14 artists>"
      ]
     },
     "execution_count": 5,
     "metadata": {},
     "output_type": "execute_result"
    },
    {
     "data": {
      "image/png": "[encoded data removed]",
      "text/plain": [
       "<matplotlib.figure.Figure at 0x7ff1ecb6de50>"
      ]
     },
     "metadata": {},
     "output_type": "display_data"
    }
   ],
   "source": [
    "myResultSet=%sql select ename \"Employee Name\", sal \"Salary\" from emp\n",
    "\n",
    "%matplotlib inline\n",
    "import matplotlib\n",
    "matplotlib.style.use('ggplot')\n",
    "\n",
    "myResultSet.bar()"
   ]
  },
  {
   "cell_type": "markdown",
   "metadata": {},
   "source": [
    "## The integration with Pandas opens many additional possibilities for data analysis"
   ]
  },
  {
   "cell_type": "code",
   "execution_count": 6,
   "metadata": {
    "collapsed": true
   },
   "outputs": [],
   "source": [
    "my_DataFrame=myResultSet.DataFrame()"
   ]
  },
  {
   "cell_type": "code",
   "execution_count": 7,
   "metadata": {
    "collapsed": false
   },
   "outputs": [
    {
     "data": {
      "text/html": [
       "<div>\n",
       "<table border=\"1\" class=\"dataframe\">\n",
       "  <thead>\n",
       "    <tr style=\"text-align: right;\">\n",
       "      <th></th>\n",
       "      <th>employee name</th>\n",
       "      <th>salary</th>\n",
       "    </tr>\n",
       "  </thead>\n",
       "  <tbody>\n",
       "    <tr>\n",
       "      <th>0</th>\n",
       "      <td>TURNER</td>\n",
       "      <td>1500</td>\n",
       "    </tr>\n",
       "    <tr>\n",
       "      <th>1</th>\n",
       "      <td>FORD</td>\n",
       "      <td>3000</td>\n",
       "    </tr>\n",
       "    <tr>\n",
       "      <th>2</th>\n",
       "      <td>WARD</td>\n",
       "      <td>1250</td>\n",
       "    </tr>\n",
       "    <tr>\n",
       "      <th>3</th>\n",
       "      <td>JONES</td>\n",
       "      <td>2975</td>\n",
       "    </tr>\n",
       "    <tr>\n",
       "      <th>4</th>\n",
       "      <td>JAMES</td>\n",
       "      <td>950</td>\n",
       "    </tr>\n",
       "  </tbody>\n",
       "</table>\n",
       "</div>"
      ],
      "text/plain": [
       "  employee name  salary\n",
       "0        TURNER    1500\n",
       "1          FORD    3000\n",
       "2          WARD    1250\n",
       "3         JONES    2975\n",
       "4         JAMES     950"
      ]
     },
     "execution_count": 7,
     "metadata": {},
     "output_type": "execute_result"
    }
   ],
   "source": [
    "my_DataFrame.head()"
   ]
  },
  {
   "cell_type": "code",
   "execution_count": null,
   "metadata": {
    "collapsed": true
   },
   "outputs": [],
   "source": []
  }
 ],
 "metadata": {
  "kernelspec": {
   "display_name": "Python 2",
   "language": "python",
   "name": "python2"
  },
  "language_info": {
   "codemirror_mode": {
    "name": "ipython",
    "version": 2
   },
   "file_extension": ".py",
   "mimetype": "text/x-python",
   "name": "python",
   "nbconvert_exporter": "python",
   "pygments_lexer": "ipython2",
   "version": "2.7.11"
  }
 },
 "nbformat": 4,
 "nbformat_minor": 0
}
